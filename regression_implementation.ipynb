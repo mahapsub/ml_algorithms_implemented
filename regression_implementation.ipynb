{
 "cells": [
  {
   "cell_type": "code",
   "execution_count": 1,
   "metadata": {},
   "outputs": [],
   "source": [
    "import pandas as pd\n",
    "import numpy as np\n",
    "from sklearn.model_selection import train_test_split\n",
    "import matplotlib.pyplot as plt\n",
    "import seaborn as sns\n",
    "from sklearn.linear_model import LinearRegression \n",
    "from sklearn.metrics import r2_score\n",
    "%matplotlib inline"
   ]
  },
  {
   "cell_type": "code",
   "execution_count": 4,
   "metadata": {},
   "outputs": [],
   "source": [
    "house_data = pd.read_csv('kc_house_data.csv')\n",
    "train_data, test_data = train_test_split(house_data, test_size=0.8)\n"
   ]
  },
  {
   "cell_type": "markdown",
   "metadata": {},
   "source": [
    "## Running Simple Linear Regression with SciKit"
   ]
  },
  {
   "cell_type": "code",
   "execution_count": 84,
   "metadata": {},
   "outputs": [
    {
     "name": "stdout",
     "output_type": "stream",
     "text": [
      "0.4942540742066289\n",
      "coef:  [[262.07421401]]\n",
      "intercept:  [-9252.06903084]\n"
     ]
    }
   ],
   "source": [
    "clf = LinearRegression(normalize=True)\n",
    "train_x = np.array(train_data.sqft_living.values)\n",
    "train_x = train_x.reshape(-1, 1)\n",
    "train_y = np.array(train_data.price.values)\n",
    "train_y = train_y.reshape(-1, 1)\n",
    "clf.fit(train_x,train_y)\n",
    "test_x = test_data.sqft_living.values\n",
    "test_x = test_x.reshape(test_x.size, 1)\n",
    "test_y = test_data.price.values\n",
    "test_y = test_x.reshape(test_x.size, 1)\n",
    "y_pred = clf.predict(np.array(test_x))\n",
    "print(r2_score(test_data.price.values,y_pred))\n",
    "print('coef: ',clf.coef_)\n",
    "print('intercept: ',clf.intercept_)\n"
   ]
  },
  {
   "cell_type": "markdown",
   "metadata": {},
   "source": [
    "## Simple Linear Regression for One Attribute"
   ]
  },
  {
   "cell_type": "code",
   "execution_count": 160,
   "metadata": {},
   "outputs": [],
   "source": [
    "def linear_regression_gradient_descent(X,Y, a_1=0, a_0=0, epochs=100, alpha=0.000001):\n",
    "    N = Y.size\n",
    "    error = 0\n",
    "    cost = 0\n",
    "    for i in range(epochs):\n",
    "        y_curr = a_1*X+a_0\n",
    "        error = y_curr-Y\n",
    "        cost = np.sum([val**2 for val in error])/N\n",
    "        a_0 = a_0 - alpha * 2 * np.sum(error)/N\n",
    "        a_1 = a_1 - alpha * 2 * np.sum(error * x_train)/N\n",
    "    print('coef: ',a_1)\n",
    "    print('intercept: ',a_0)\n",
    "    print('error: ', error)\n",
    "    print('cost:', cost**(0.5)/np.mean(Y))\n",
    "    plt.scatter(X,Y)\n",
    "    X=np.append(X,[0])\n",
    "    \n",
    "    plt.plot(X, a_1*X+a_0, '-g')\n",
    "    plt.plot(X, 262.07421401*X-9252.06903084, '--r')\n",
    "\n",
    "    return lambda input: a_1*input+a_0"
   ]
  },
  {
   "cell_type": "code",
   "execution_count": 161,
   "metadata": {},
   "outputs": [
    {
     "name": "stdout",
     "output_type": "stream",
     "text": [
      "coef:  253.98253987430812\n",
      "intercept:  25.398253987430817\n",
      "error:  [[  66346.90477414]\n",
      " [-178000.42175707]\n",
      " [ 299432.66595626]\n",
      " ...\n",
      " [ 345424.82787573]\n",
      " [  29447.00160458]\n",
      " [  93925.96339254]]\n",
      "cost: 0.4672078002774965\n"
     ]
    },
    {
     "data": {
      "text/plain": [
       "<function __main__.linear_regression_gradient_descent.<locals>.<lambda>(input)>"
      ]
     },
     "execution_count": 161,
     "metadata": {},
     "output_type": "execute_result"
    },
    {
     "data": {
      "image/png": "[encoded data removed]",
      "text/plain": [
       "<Figure size 432x288 with 1 Axes>"
      ]
     },
     "metadata": {},
     "output_type": "display_data"
    }
   ],
   "source": [
    "train_x = np.array(train_data.sqft_living.values)\n",
    "train_x = train_x.reshape(-1, 1)\n",
    "\n",
    "train_y = np.array(train_data.price.values)\n",
    "train_y = train_y.reshape(-1, 1)\n",
    "\n",
    "linear_regression_gradient_descent(train_x, train_y)"
   ]
  },
  {
   "cell_type": "markdown",
   "metadata": {},
   "source": [
    "## Multiple Attribute Linear Regression"
   ]
  },
  {
   "cell_type": "code",
   "execution_count": 9,
   "metadata": {},
   "outputs": [],
   "source": [
    "features_data = house_data.copy()\n",
    "features_data.drop(['date', 'price', 'id'],axis=1, inplace=True)\n",
    "Y = house_data['price'].values\n",
    "X = features_data.values\n",
    "\n",
    "\n",
    "#Concatenate a0 column filled with 1s\n",
    "X = np.concatenate((np.ones((X.shape[0],1)), X), axis=1)\n",
    "\n",
    "#Training scikit\n",
    "x_train, x_test, y_train, y_test = train_test_split(X,Y,test_size=0.2)\n",
    "\n",
    "\n",
    "\n"
   ]
  },
  {
   "cell_type": "markdown",
   "metadata": {},
   "source": [
    "### Printing Scikit's Solution"
   ]
  },
  {
   "cell_type": "code",
   "execution_count": 224,
   "metadata": {},
   "outputs": [
    {
     "name": "stdout",
     "output_type": "stream",
     "text": [
      "[ 0.00000000e+00 -3.51302696e+04  4.26814249e+04  1.12822218e+02\n",
      "  8.46929023e-02  6.14364871e+03  5.83829546e+05  5.32355350e+04\n",
      "  2.67234204e+04  9.51715136e+04  7.19740410e+01  4.08481766e+01\n",
      " -2.64522162e+03  1.77042983e+01 -5.99957031e+02  6.04678967e+05\n",
      " -2.17539349e+05  1.94257677e+01 -3.35027975e-01]\n",
      "8021437.818829906\n"
     ]
    }
   ],
   "source": [
    "clf = LinearRegression(normalize=False)\n",
    "clf.fit(x_train,y_train)\n",
    "print(clf.coef_)\n",
    "print(clf.intercept_)\n"
   ]
  },
  {
   "cell_type": "markdown",
   "metadata": {},
   "source": [
    "### Hand-crafted Implementation"
   ]
  },
  {
   "cell_type": "code",
   "execution_count": 265,
   "metadata": {},
   "outputs": [],
   "source": [
    "def linear_regression(x_train,y_train, alpha=pow(10,-10), epochs=100):\n",
    "#     alpha = 0.001\n",
    "    cost = []\n",
    "    theta = np.zeros((x_train.shape[1],1))\n",
    "    m = x_train.size\n",
    "    for i in range(epochs):\n",
    "        h_target = np.dot(x_train,theta)\n",
    "\n",
    "        error = h_target-y_train\n",
    "        cost.append((1/m)*np.sum(np.square(error)))\n",
    "        theta = theta - alpha/m * x_train.T.dot(error)\n",
    "\n",
    "\n",
    "#     print(theta.shape)\n",
    "#     print(target.shape)\n",
    "#     print(x_train[:,1].shape)\n",
    "#     print(target.shape)\n",
    "#     lst = [i for i in range(cost.size)]\n",
    "    plt.plot([i for i in range(epochs)],cost)\n",
    "    print('coef: ',theta[1:])\n",
    "    print('intercept = ', theta[0])\n",
    "    \n",
    "        \n"
   ]
  },
  {
   "cell_type": "code",
   "execution_count": 266,
   "metadata": {},
   "outputs": [
    {
     "name": "stdout",
     "output_type": "stream",
     "text": [
      "coef:  [[ 8.49596903e-05  2.11413693e-04  1.47829861e-04 ...  1.15171356e-04\n",
      "   3.38139567e-04  9.00572717e-05]\n",
      " [ 5.29905994e-05  1.31861808e-04  9.22036430e-05 ...  7.18340566e-05\n",
      "   2.10902586e-04  5.61700354e-05]\n",
      " [ 5.14038473e-02  1.27913334e-01  8.94426943e-02 ...  6.96830554e-02\n",
      "   2.04587312e-01  5.44880782e-02]\n",
      " ...\n",
      " [-3.08880614e-03 -7.68618521e-03 -5.37452269e-03 ... -4.18718561e-03\n",
      "  -1.22934485e-02 -3.27413451e-03]\n",
      " [ 4.94637288e-02  1.23085543e-01  8.60668880e-02 ...  6.70530307e-02\n",
      "   1.96865640e-01  5.24315525e-02]\n",
      " [ 1.78694470e-01  4.44663319e-01  3.10928378e-01 ...  2.42238224e-01\n",
      "   7.11203991e-01  1.89416138e-01]]\n",
      "intercept =  [2.52718376e-05 6.28864406e-05 4.39729974e-05 ... 3.42585030e-05\n",
      " 1.00581913e-04 2.67881478e-05]\n"
     ]
    },
    {
     "data": {
      "image/png": "[encoded data removed]",
      "text/plain": [
       "<Figure size 432x288 with 1 Axes>"
      ]
     },
     "metadata": {},
     "output_type": "display_data"
    }
   ],
   "source": [
    "linear_regression(x_train, y_train)"
   ]
  }
 ],
 "metadata": {
  "kernelspec": {
   "display_name": "Python 3",
   "language": "python",
   "name": "python3"
  },
  "language_info": {
   "codemirror_mode": {
    "name": "ipython",
    "version": 3
   },
   "file_extension": ".py",
   "mimetype": "text/x-python",
   "name": "python",
   "nbconvert_exporter": "python",
   "pygments_lexer": "ipython3",
   "version": "3.6.5"
  }
 },
 "nbformat": 4,
 "nbformat_minor": 2
}
